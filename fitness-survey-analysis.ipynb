{
 "cells": [
  {
   "cell_type": "markdown",
   "metadata": {
    "papermill": {
     "duration": 0.035714,
     "end_time": "2020-10-06T09:11:12.452538",
     "exception": false,
     "start_time": "2020-10-06T09:11:12.416824",
     "status": "completed"
    },
    "tags": []
   },
   "source": [
    " # <center> Analyzing Fitness Survey Data </center>"
   ]
  },
  {
   "cell_type": "markdown",
   "metadata": {
    "papermill": {
     "duration": 0.034283,
     "end_time": "2020-10-06T09:11:12.522689",
     "exception": false,
     "start_time": "2020-10-06T09:11:12.488406",
     "status": "completed"
    },
    "tags": []
   },
   "source": [
    "#### In this notebook, I will be visualizing some of the key features of [this](https://github.com/akhilsali/Fitness-survey-analysis/blob/main/fitness%20analysis.csv) fitness survey data. Lets start by reading in the data and cleaning it for further analysis"
   ]
  },
  {
   "cell_type": "code",
   "execution_count": 1,
   "metadata": {
    "execution": {
     "iopub.execute_input": "2020-10-06T09:11:12.596536Z",
     "iopub.status.busy": "2020-10-06T09:11:12.595768Z",
     "iopub.status.idle": "2020-10-06T09:11:12.598976Z",
     "shell.execute_reply": "2020-10-06T09:11:12.598394Z"
    },
    "papermill": {
     "duration": 0.042145,
     "end_time": "2020-10-06T09:11:12.599093",
     "exception": false,
     "start_time": "2020-10-06T09:11:12.556948",
     "status": "completed"
    },
    "tags": []
   },
   "outputs": [],
   "source": [
    "import pandas as pd"
   ]
  },
  {
   "cell_type": "code",
   "execution_count": 2,
   "metadata": {
    "execution": {
     "iopub.execute_input": "2020-10-06T09:11:12.674937Z",
     "iopub.status.busy": "2020-10-06T09:11:12.674240Z",
     "iopub.status.idle": "2020-10-06T09:11:12.702211Z",
     "shell.execute_reply": "2020-10-06T09:11:12.701538Z"
    },
    "papermill": {
     "duration": 0.069286,
     "end_time": "2020-10-06T09:11:12.702343",
     "exception": false,
     "start_time": "2020-10-06T09:11:12.633057",
     "status": "completed"
    },
    "tags": []
   },
   "outputs": [],
   "source": [
    "df=pd.read_csv(\"../input/fitness-analysis/fitness analysis.csv\")"
   ]
  },
  {
   "cell_type": "code",
   "execution_count": 3,
   "metadata": {
    "execution": {
     "iopub.execute_input": "2020-10-06T09:11:12.792408Z",
     "iopub.status.busy": "2020-10-06T09:11:12.779390Z",
     "iopub.status.idle": "2020-10-06T09:11:12.796904Z",
     "shell.execute_reply": "2020-10-06T09:11:12.795974Z"
    },
    "papermill": {
     "duration": 0.060485,
     "end_time": "2020-10-06T09:11:12.797070",
     "exception": false,
     "start_time": "2020-10-06T09:11:12.736585",
     "status": "completed"
    },
    "tags": []
   },
   "outputs": [
    {
     "name": "stdout",
     "output_type": "stream",
     "text": [
      "<class 'pandas.core.frame.DataFrame'>\n",
      "RangeIndex: 545 entries, 0 to 544\n",
      "Data columns (total 18 columns):\n",
      " #   Column                                                                                                                 Non-Null Count  Dtype \n",
      "---  ------                                                                                                                 --------------  ----- \n",
      " 0   Timestamp                                                                                                              545 non-null    object\n",
      " 1   Your name                                                                                                              545 non-null    object\n",
      " 2   Your gender                                                                                                            545 non-null    object\n",
      " 3   Your age                                                                                                               545 non-null    object\n",
      " 4   How important is exercise to you ?                                                                                     545 non-null    int64 \n",
      " 5   How do you describe your current level of fitness ?                                                                    545 non-null    object\n",
      " 6   How often do you exercise?                                                                                             545 non-null    object\n",
      " 7   What barriers, if any, prevent you from exercising more regularly?           (Please select all that apply)            545 non-null    object\n",
      " 8   What form(s) of exercise do you currently participate in ?                        (Please select all that apply)       545 non-null    object\n",
      " 9   Do you exercise ___________ ?                                                                                          545 non-null    object\n",
      " 10  What time if the day do you prefer to exercise?                                                                        545 non-null    object\n",
      " 11  How long do you spend exercising per day ?                                                                             545 non-null    object\n",
      " 12  Would you say you eat a healthy balanced diet ?                                                                        545 non-null    object\n",
      " 13  What prevents you from eating a healthy balanced diet, If any?                         (Please select all that apply)  545 non-null    object\n",
      " 14  How healthy do you consider yourself?                                                                                  545 non-null    int64 \n",
      " 15  Have you ever recommended your friends to follow a fitness routine?                                                    545 non-null    object\n",
      " 16  Have you ever purchased a fitness equipment?                                                                           545 non-null    object\n",
      " 17  What motivates you to exercise?         (Please select all that applies )                                              545 non-null    object\n",
      "dtypes: int64(2), object(16)\n",
      "memory usage: 76.8+ KB\n"
     ]
    }
   ],
   "source": [
    "df.info()\n"
   ]
  },
  {
   "cell_type": "markdown",
   "metadata": {
    "papermill": {
     "duration": 0.034371,
     "end_time": "2020-10-06T09:11:12.871180",
     "exception": false,
     "start_time": "2020-10-06T09:11:12.836809",
     "status": "completed"
    },
    "tags": []
   },
   "source": [
    "#### Looks like the dataset doesnt have any missing values. However, the column names are too long, so lets shorten them by using abbreviations."
   ]
  },
  {
   "cell_type": "code",
   "execution_count": 4,
   "metadata": {
    "execution": {
     "iopub.execute_input": "2020-10-06T09:11:12.957765Z",
     "iopub.status.busy": "2020-10-06T09:11:12.955491Z",
     "iopub.status.idle": "2020-10-06T09:11:12.973626Z",
     "shell.execute_reply": "2020-10-06T09:11:12.972976Z"
    },
    "papermill": {
     "duration": 0.067315,
     "end_time": "2020-10-06T09:11:12.973722",
     "exception": false,
     "start_time": "2020-10-06T09:11:12.906407",
     "status": "completed"
    },
    "tags": []
   },
   "outputs": [
    {
     "data": {
      "text/html": [
       "<div>\n",
       "<style scoped>\n",
       "    .dataframe tbody tr th:only-of-type {\n",
       "        vertical-align: middle;\n",
       "    }\n",
       "\n",
       "    .dataframe tbody tr th {\n",
       "        vertical-align: top;\n",
       "    }\n",
       "\n",
       "    .dataframe thead th {\n",
       "        text-align: right;\n",
       "    }\n",
       "</style>\n",
       "<table border=\"1\" class=\"dataframe\">\n",
       "  <thead>\n",
       "    <tr style=\"text-align: right;\">\n",
       "      <th></th>\n",
       "      <th>Timestamp</th>\n",
       "      <th>Your name</th>\n",
       "      <th>Your gender</th>\n",
       "      <th>Your age</th>\n",
       "      <th>How important is exercise to you ?</th>\n",
       "      <th>How do you describe your current level of fitness ?</th>\n",
       "      <th>How often do you exercise?</th>\n",
       "      <th>What barriers, if any, prevent you from exercising more regularly?           (Please select all that apply)</th>\n",
       "      <th>What form(s) of exercise do you currently participate in ?                        (Please select all that apply)</th>\n",
       "      <th>Do you exercise ___________ ?</th>\n",
       "      <th>What time if the day do you prefer to exercise?</th>\n",
       "      <th>How long do you spend exercising per day ?</th>\n",
       "      <th>Would you say you eat a healthy balanced diet ?</th>\n",
       "      <th>What prevents you from eating a healthy balanced diet, If any?                         (Please select all that apply)</th>\n",
       "      <th>How healthy do you consider yourself?</th>\n",
       "      <th>Have you ever recommended your friends to follow a fitness routine?</th>\n",
       "      <th>Have you ever purchased a fitness equipment?</th>\n",
       "      <th>What motivates you to exercise?         (Please select all that applies )</th>\n",
       "    </tr>\n",
       "  </thead>\n",
       "  <tbody>\n",
       "    <tr>\n",
       "      <th>0</th>\n",
       "      <td>2019/07/03 11:48:07 PM GMT+5:30</td>\n",
       "      <td>Parkavi</td>\n",
       "      <td>Female</td>\n",
       "      <td>19 to 25</td>\n",
       "      <td>2</td>\n",
       "      <td>Good</td>\n",
       "      <td>Never</td>\n",
       "      <td>I don't have enough time;I can't stay motivated</td>\n",
       "      <td>I don't really exercise</td>\n",
       "      <td>I don't really exercise</td>\n",
       "      <td>Early morning</td>\n",
       "      <td>I don't really exercise</td>\n",
       "      <td>Not always</td>\n",
       "      <td>Ease of access to fast food;Temptation and cra...</td>\n",
       "      <td>3</td>\n",
       "      <td>Yes</td>\n",
       "      <td>No</td>\n",
       "      <td>I'm sorry ... I'm not really interested in exe...</td>\n",
       "    </tr>\n",
       "    <tr>\n",
       "      <th>1</th>\n",
       "      <td>2019/07/03 11:51:22 PM GMT+5:30</td>\n",
       "      <td>Nithilaa</td>\n",
       "      <td>Female</td>\n",
       "      <td>19 to 25</td>\n",
       "      <td>4</td>\n",
       "      <td>Very good</td>\n",
       "      <td>Never</td>\n",
       "      <td>I don't have enough time;I'll become too tired</td>\n",
       "      <td>Walking or jogging;Swimming</td>\n",
       "      <td>With a group</td>\n",
       "      <td>Early morning</td>\n",
       "      <td>I don't really exercise</td>\n",
       "      <td>Not always</td>\n",
       "      <td>Ease of access to fast food;Temptation and cra...</td>\n",
       "      <td>4</td>\n",
       "      <td>Yes</td>\n",
       "      <td>No</td>\n",
       "      <td>I want to be fit;I want to be flexible;I want ...</td>\n",
       "    </tr>\n",
       "    <tr>\n",
       "      <th>2</th>\n",
       "      <td>2019/07/03 11:56:28 PM GMT+5:30</td>\n",
       "      <td>Karunya v</td>\n",
       "      <td>Female</td>\n",
       "      <td>15 to 18</td>\n",
       "      <td>3</td>\n",
       "      <td>Good</td>\n",
       "      <td>1 to 2 times a week</td>\n",
       "      <td>I can't stay motivated</td>\n",
       "      <td>Walking or jogging</td>\n",
       "      <td>Alone</td>\n",
       "      <td>Early morning</td>\n",
       "      <td>30 minutes</td>\n",
       "      <td>Not always</td>\n",
       "      <td>Temptation and cravings</td>\n",
       "      <td>4</td>\n",
       "      <td>Yes</td>\n",
       "      <td>Yes</td>\n",
       "      <td>I want to be fit</td>\n",
       "    </tr>\n",
       "    <tr>\n",
       "      <th>3</th>\n",
       "      <td>2019/07/04 5:43:35 AM GMT+5:30</td>\n",
       "      <td>Anusha</td>\n",
       "      <td>Female</td>\n",
       "      <td>15 to 18</td>\n",
       "      <td>4</td>\n",
       "      <td>Good</td>\n",
       "      <td>3 to 4 times a week</td>\n",
       "      <td>I don't have enough time</td>\n",
       "      <td>Walking or jogging;Gym;Lifting weights</td>\n",
       "      <td>Alone</td>\n",
       "      <td>Evening</td>\n",
       "      <td>1 hour</td>\n",
       "      <td>Yes</td>\n",
       "      <td>Temptation and cravings</td>\n",
       "      <td>4</td>\n",
       "      <td>Yes</td>\n",
       "      <td>No</td>\n",
       "      <td>I want to be fit;I want to lose weight</td>\n",
       "    </tr>\n",
       "    <tr>\n",
       "      <th>4</th>\n",
       "      <td>2019/07/04 5:44:29 AM GMT+5:30</td>\n",
       "      <td>Nikkitha</td>\n",
       "      <td>Female</td>\n",
       "      <td>19 to 25</td>\n",
       "      <td>3</td>\n",
       "      <td>Unfit</td>\n",
       "      <td>Never</td>\n",
       "      <td>I can't stay motivated</td>\n",
       "      <td>I don't really exercise</td>\n",
       "      <td>I don't really exercise</td>\n",
       "      <td>Evening</td>\n",
       "      <td>I don't really exercise</td>\n",
       "      <td>Yes</td>\n",
       "      <td>Ease of access to fast food;Temptation and cra...</td>\n",
       "      <td>4</td>\n",
       "      <td>Yes</td>\n",
       "      <td>No</td>\n",
       "      <td>I want to be fit</td>\n",
       "    </tr>\n",
       "  </tbody>\n",
       "</table>\n",
       "</div>"
      ],
      "text/plain": [
       "                         Timestamp Your name  Your gender  Your age   \\\n",
       "0  2019/07/03 11:48:07 PM GMT+5:30    Parkavi       Female  19 to 25   \n",
       "1  2019/07/03 11:51:22 PM GMT+5:30   Nithilaa       Female  19 to 25   \n",
       "2  2019/07/03 11:56:28 PM GMT+5:30  Karunya v       Female  15 to 18   \n",
       "3   2019/07/04 5:43:35 AM GMT+5:30    Anusha        Female  15 to 18   \n",
       "4   2019/07/04 5:44:29 AM GMT+5:30   Nikkitha       Female  19 to 25   \n",
       "\n",
       "   How important is exercise to you ?  \\\n",
       "0                                   2   \n",
       "1                                   4   \n",
       "2                                   3   \n",
       "3                                   4   \n",
       "4                                   3   \n",
       "\n",
       "  How do you describe your current level of fitness ?  \\\n",
       "0                                               Good    \n",
       "1                                          Very good    \n",
       "2                                               Good    \n",
       "3                                               Good    \n",
       "4                                              Unfit    \n",
       "\n",
       "  How often do you exercise?  \\\n",
       "0                      Never   \n",
       "1                      Never   \n",
       "2        1 to 2 times a week   \n",
       "3        3 to 4 times a week   \n",
       "4                      Never   \n",
       "\n",
       "  What barriers, if any, prevent you from exercising more regularly?           (Please select all that apply)  \\\n",
       "0    I don't have enough time;I can't stay motivated                                                            \n",
       "1     I don't have enough time;I'll become too tired                                                            \n",
       "2                             I can't stay motivated                                                            \n",
       "3                           I don't have enough time                                                            \n",
       "4                             I can't stay motivated                                                            \n",
       "\n",
       "  What form(s) of exercise do you currently participate in ?                        (Please select all that apply)  \\\n",
       "0                            I don't really exercise                                                                 \n",
       "1                        Walking or jogging;Swimming                                                                 \n",
       "2                                 Walking or jogging                                                                 \n",
       "3             Walking or jogging;Gym;Lifting weights                                                                 \n",
       "4                            I don't really exercise                                                                 \n",
       "\n",
       "  Do you exercise ___________ ?  \\\n",
       "0       I don't really exercise   \n",
       "1                  With a group   \n",
       "2                         Alone   \n",
       "3                         Alone   \n",
       "4       I don't really exercise   \n",
       "\n",
       "  What time if the day do you prefer to exercise?  \\\n",
       "0                                   Early morning   \n",
       "1                                   Early morning   \n",
       "2                                   Early morning   \n",
       "3                                         Evening   \n",
       "4                                         Evening   \n",
       "\n",
       "  How long do you spend exercising per day ?  \\\n",
       "0                    I don't really exercise   \n",
       "1                    I don't really exercise   \n",
       "2                                 30 minutes   \n",
       "3                                     1 hour   \n",
       "4                    I don't really exercise   \n",
       "\n",
       "  Would you say you eat a healthy balanced diet ?  \\\n",
       "0                                      Not always   \n",
       "1                                      Not always   \n",
       "2                                      Not always   \n",
       "3                                             Yes   \n",
       "4                                             Yes   \n",
       "\n",
       "  What prevents you from eating a healthy balanced diet, If any?                         (Please select all that apply)  \\\n",
       "0  Ease of access to fast food;Temptation and cra...                                                                      \n",
       "1  Ease of access to fast food;Temptation and cra...                                                                      \n",
       "2                            Temptation and cravings                                                                      \n",
       "3                            Temptation and cravings                                                                      \n",
       "4  Ease of access to fast food;Temptation and cra...                                                                      \n",
       "\n",
       "   How healthy do you consider yourself?  \\\n",
       "0                                      3   \n",
       "1                                      4   \n",
       "2                                      4   \n",
       "3                                      4   \n",
       "4                                      4   \n",
       "\n",
       "  Have you ever recommended your friends to follow a fitness routine?  \\\n",
       "0                                                Yes                    \n",
       "1                                                Yes                    \n",
       "2                                                Yes                    \n",
       "3                                                Yes                    \n",
       "4                                                Yes                    \n",
       "\n",
       "  Have you ever purchased a fitness equipment?  \\\n",
       "0                                           No   \n",
       "1                                           No   \n",
       "2                                          Yes   \n",
       "3                                           No   \n",
       "4                                           No   \n",
       "\n",
       "  What motivates you to exercise?         (Please select all that applies )  \n",
       "0  I'm sorry ... I'm not really interested in exe...                         \n",
       "1  I want to be fit;I want to be flexible;I want ...                         \n",
       "2                                   I want to be fit                         \n",
       "3             I want to be fit;I want to lose weight                         \n",
       "4                                   I want to be fit                         "
      ]
     },
     "execution_count": 4,
     "metadata": {},
     "output_type": "execute_result"
    }
   ],
   "source": [
    "df.head()"
   ]
  },
  {
   "cell_type": "code",
   "execution_count": 5,
   "metadata": {
    "execution": {
     "iopub.execute_input": "2020-10-06T09:11:13.052736Z",
     "iopub.status.busy": "2020-10-06T09:11:13.051690Z",
     "iopub.status.idle": "2020-10-06T09:11:13.055708Z",
     "shell.execute_reply": "2020-10-06T09:11:13.055000Z"
    },
    "papermill": {
     "duration": 0.045401,
     "end_time": "2020-10-06T09:11:13.055814",
     "exception": false,
     "start_time": "2020-10-06T09:11:13.010413",
     "status": "completed"
    },
    "tags": []
   },
   "outputs": [
    {
     "data": {
      "text/plain": [
       "Index(['Timestamp', 'Your name ', 'Your gender ', 'Your age ',\n",
       "       'How important is exercise to you ?',\n",
       "       'How do you describe your current level of fitness ?',\n",
       "       'How often do you exercise?',\n",
       "       'What barriers, if any, prevent you from exercising more regularly?           (Please select all that apply)',\n",
       "       'What form(s) of exercise do you currently participate in ?                        (Please select all that apply)',\n",
       "       'Do you exercise ___________ ?',\n",
       "       'What time if the day do you prefer to exercise?',\n",
       "       'How long do you spend exercising per day ?',\n",
       "       'Would you say you eat a healthy balanced diet ?',\n",
       "       'What prevents you from eating a healthy balanced diet, If any?                         (Please select all that apply)',\n",
       "       'How healthy do you consider yourself?',\n",
       "       'Have you ever recommended your friends to follow a fitness routine?',\n",
       "       'Have you ever purchased a fitness equipment?',\n",
       "       'What motivates you to exercise?         (Please select all that applies )'],\n",
       "      dtype='object')"
      ]
     },
     "execution_count": 5,
     "metadata": {},
     "output_type": "execute_result"
    }
   ],
   "source": [
    "df.columns"
   ]
  },
  {
   "cell_type": "code",
   "execution_count": 6,
   "metadata": {
    "execution": {
     "iopub.execute_input": "2020-10-06T09:11:13.135539Z",
     "iopub.status.busy": "2020-10-06T09:11:13.134851Z",
     "iopub.status.idle": "2020-10-06T09:11:13.138209Z",
     "shell.execute_reply": "2020-10-06T09:11:13.137557Z"
    },
    "papermill": {
     "duration": 0.045547,
     "end_time": "2020-10-06T09:11:13.138319",
     "exception": false,
     "start_time": "2020-10-06T09:11:13.092772",
     "status": "completed"
    },
    "tags": []
   },
   "outputs": [],
   "source": [
    "new_cols=['Timestamp','Name','Gender','Age','Exercise_importance','Fitness_level','Regularity','Barriers','Exercises','Do_you','Time','Time_spent','Balanced_diet','prevents_balanced','Health_level','Recommend_fitness','Equipment','Motivation']"
   ]
  },
  {
   "cell_type": "code",
   "execution_count": 7,
   "metadata": {
    "execution": {
     "iopub.execute_input": "2020-10-06T09:11:13.216976Z",
     "iopub.status.busy": "2020-10-06T09:11:13.216296Z",
     "iopub.status.idle": "2020-10-06T09:11:13.230387Z",
     "shell.execute_reply": "2020-10-06T09:11:13.229759Z"
    },
    "papermill": {
     "duration": 0.05485,
     "end_time": "2020-10-06T09:11:13.230508",
     "exception": false,
     "start_time": "2020-10-06T09:11:13.175658",
     "status": "completed"
    },
    "tags": []
   },
   "outputs": [
    {
     "data": {
      "text/html": [
       "<div>\n",
       "<style scoped>\n",
       "    .dataframe tbody tr th:only-of-type {\n",
       "        vertical-align: middle;\n",
       "    }\n",
       "\n",
       "    .dataframe tbody tr th {\n",
       "        vertical-align: top;\n",
       "    }\n",
       "\n",
       "    .dataframe thead th {\n",
       "        text-align: right;\n",
       "    }\n",
       "</style>\n",
       "<table border=\"1\" class=\"dataframe\">\n",
       "  <thead>\n",
       "    <tr style=\"text-align: right;\">\n",
       "      <th></th>\n",
       "      <th>0</th>\n",
       "    </tr>\n",
       "  </thead>\n",
       "  <tbody>\n",
       "    <tr>\n",
       "      <th>Timestamp</th>\n",
       "      <td>Timestamp</td>\n",
       "    </tr>\n",
       "    <tr>\n",
       "      <th>Your name</th>\n",
       "      <td>Name</td>\n",
       "    </tr>\n",
       "    <tr>\n",
       "      <th>Your gender</th>\n",
       "      <td>Gender</td>\n",
       "    </tr>\n",
       "    <tr>\n",
       "      <th>Your age</th>\n",
       "      <td>Age</td>\n",
       "    </tr>\n",
       "    <tr>\n",
       "      <th>How important is exercise to you ?</th>\n",
       "      <td>Exercise_importance</td>\n",
       "    </tr>\n",
       "    <tr>\n",
       "      <th>How do you describe your current level of fitness ?</th>\n",
       "      <td>Fitness_level</td>\n",
       "    </tr>\n",
       "    <tr>\n",
       "      <th>How often do you exercise?</th>\n",
       "      <td>Regularity</td>\n",
       "    </tr>\n",
       "    <tr>\n",
       "      <th>What barriers, if any, prevent you from exercising more regularly?           (Please select all that apply)</th>\n",
       "      <td>Barriers</td>\n",
       "    </tr>\n",
       "    <tr>\n",
       "      <th>What form(s) of exercise do you currently participate in ?                        (Please select all that apply)</th>\n",
       "      <td>Exercises</td>\n",
       "    </tr>\n",
       "    <tr>\n",
       "      <th>Do you exercise ___________ ?</th>\n",
       "      <td>Do_you</td>\n",
       "    </tr>\n",
       "    <tr>\n",
       "      <th>What time if the day do you prefer to exercise?</th>\n",
       "      <td>Time</td>\n",
       "    </tr>\n",
       "    <tr>\n",
       "      <th>How long do you spend exercising per day ?</th>\n",
       "      <td>Time_spent</td>\n",
       "    </tr>\n",
       "    <tr>\n",
       "      <th>Would you say you eat a healthy balanced diet ?</th>\n",
       "      <td>Balanced_diet</td>\n",
       "    </tr>\n",
       "    <tr>\n",
       "      <th>What prevents you from eating a healthy balanced diet, If any?                         (Please select all that apply)</th>\n",
       "      <td>prevents_balanced</td>\n",
       "    </tr>\n",
       "    <tr>\n",
       "      <th>How healthy do you consider yourself?</th>\n",
       "      <td>Health_level</td>\n",
       "    </tr>\n",
       "    <tr>\n",
       "      <th>Have you ever recommended your friends to follow a fitness routine?</th>\n",
       "      <td>Recommend_fitness</td>\n",
       "    </tr>\n",
       "    <tr>\n",
       "      <th>Have you ever purchased a fitness equipment?</th>\n",
       "      <td>Equipment</td>\n",
       "    </tr>\n",
       "    <tr>\n",
       "      <th>What motivates you to exercise?         (Please select all that applies )</th>\n",
       "      <td>Motivation</td>\n",
       "    </tr>\n",
       "  </tbody>\n",
       "</table>\n",
       "</div>"
      ],
      "text/plain": [
       "                                                                      0\n",
       "Timestamp                                                     Timestamp\n",
       "Your name                                                          Name\n",
       "Your gender                                                      Gender\n",
       "Your age                                                            Age\n",
       "How important is exercise to you ?                  Exercise_importance\n",
       "How do you describe your current level of fitne...        Fitness_level\n",
       "How often do you exercise?                                   Regularity\n",
       "What barriers, if any, prevent you from exercis...             Barriers\n",
       "What form(s) of exercise do you currently parti...            Exercises\n",
       "Do you exercise ___________ ?                                    Do_you\n",
       "What time if the day do you prefer to exercise?                    Time\n",
       "How long do you spend exercising per day ?                   Time_spent\n",
       "Would you say you eat a healthy balanced diet ?           Balanced_diet\n",
       "What prevents you from eating a healthy balance...    prevents_balanced\n",
       "How healthy do you consider yourself?                      Health_level\n",
       "Have you ever recommended your friends to follo...    Recommend_fitness\n",
       "Have you ever purchased a fitness equipment?                  Equipment\n",
       "What motivates you to exercise?         (Please...           Motivation"
      ]
     },
     "execution_count": 7,
     "metadata": {},
     "output_type": "execute_result"
    }
   ],
   "source": [
    "column_reference=pd.DataFrame(new_cols,df.columns)\n",
    "column_reference"
   ]
  },
  {
   "cell_type": "markdown",
   "metadata": {
    "papermill": {
     "duration": 0.038087,
     "end_time": "2020-10-06T09:11:13.308076",
     "exception": false,
     "start_time": "2020-10-06T09:11:13.269989",
     "status": "completed"
    },
    "tags": []
   },
   "source": [
    "#### We'll save the old column names as a dataframe for reference"
   ]
  },
  {
   "cell_type": "code",
   "execution_count": 8,
   "metadata": {
    "execution": {
     "iopub.execute_input": "2020-10-06T09:11:13.389511Z",
     "iopub.status.busy": "2020-10-06T09:11:13.388665Z",
     "iopub.status.idle": "2020-10-06T09:11:13.391482Z",
     "shell.execute_reply": "2020-10-06T09:11:13.390735Z"
    },
    "papermill": {
     "duration": 0.045254,
     "end_time": "2020-10-06T09:11:13.391584",
     "exception": false,
     "start_time": "2020-10-06T09:11:13.346330",
     "status": "completed"
    },
    "tags": []
   },
   "outputs": [],
   "source": [
    "df.columns=new_cols"
   ]
  },
  {
   "cell_type": "markdown",
   "metadata": {
    "papermill": {
     "duration": 0.038498,
     "end_time": "2020-10-06T09:11:13.467598",
     "exception": false,
     "start_time": "2020-10-06T09:11:13.429100",
     "status": "completed"
    },
    "tags": []
   },
   "source": [
    "#### Since we do not need the timestamp and names of participants for our analysis, lets drop these columns"
   ]
  },
  {
   "cell_type": "code",
   "execution_count": 9,
   "metadata": {
    "_kg_hide-input": true,
    "execution": {
     "iopub.execute_input": "2020-10-06T09:11:13.551138Z",
     "iopub.status.busy": "2020-10-06T09:11:13.550135Z",
     "iopub.status.idle": "2020-10-06T09:11:13.553646Z",
     "shell.execute_reply": "2020-10-06T09:11:13.553033Z"
    },
    "papermill": {
     "duration": 0.048133,
     "end_time": "2020-10-06T09:11:13.553759",
     "exception": false,
     "start_time": "2020-10-06T09:11:13.505626",
     "status": "completed"
    },
    "tags": []
   },
   "outputs": [],
   "source": [
    "df.drop(columns=['Timestamp','Name'],inplace=True)"
   ]
  },
  {
   "cell_type": "code",
   "execution_count": 10,
   "metadata": {
    "execution": {
     "iopub.execute_input": "2020-10-06T09:11:13.651804Z",
     "iopub.status.busy": "2020-10-06T09:11:13.650826Z",
     "iopub.status.idle": "2020-10-06T09:11:13.655323Z",
     "shell.execute_reply": "2020-10-06T09:11:13.654578Z"
    },
    "papermill": {
     "duration": 0.063254,
     "end_time": "2020-10-06T09:11:13.655429",
     "exception": false,
     "start_time": "2020-10-06T09:11:13.592175",
     "status": "completed"
    },
    "tags": []
   },
   "outputs": [
    {
     "data": {
      "text/html": [
       "<div>\n",
       "<style scoped>\n",
       "    .dataframe tbody tr th:only-of-type {\n",
       "        vertical-align: middle;\n",
       "    }\n",
       "\n",
       "    .dataframe tbody tr th {\n",
       "        vertical-align: top;\n",
       "    }\n",
       "\n",
       "    .dataframe thead th {\n",
       "        text-align: right;\n",
       "    }\n",
       "</style>\n",
       "<table border=\"1\" class=\"dataframe\">\n",
       "  <thead>\n",
       "    <tr style=\"text-align: right;\">\n",
       "      <th></th>\n",
       "      <th>Gender</th>\n",
       "      <th>Age</th>\n",
       "      <th>Exercise_importance</th>\n",
       "      <th>Fitness_level</th>\n",
       "      <th>Regularity</th>\n",
       "      <th>Barriers</th>\n",
       "      <th>Exercises</th>\n",
       "      <th>Do_you</th>\n",
       "      <th>Time</th>\n",
       "      <th>Time_spent</th>\n",
       "      <th>Balanced_diet</th>\n",
       "      <th>prevents_balanced</th>\n",
       "      <th>Health_level</th>\n",
       "      <th>Recommend_fitness</th>\n",
       "      <th>Equipment</th>\n",
       "      <th>Motivation</th>\n",
       "    </tr>\n",
       "  </thead>\n",
       "  <tbody>\n",
       "    <tr>\n",
       "      <th>0</th>\n",
       "      <td>Female</td>\n",
       "      <td>19 to 25</td>\n",
       "      <td>2</td>\n",
       "      <td>Good</td>\n",
       "      <td>Never</td>\n",
       "      <td>I don't have enough time;I can't stay motivated</td>\n",
       "      <td>I don't really exercise</td>\n",
       "      <td>I don't really exercise</td>\n",
       "      <td>Early morning</td>\n",
       "      <td>I don't really exercise</td>\n",
       "      <td>Not always</td>\n",
       "      <td>Ease of access to fast food;Temptation and cra...</td>\n",
       "      <td>3</td>\n",
       "      <td>Yes</td>\n",
       "      <td>No</td>\n",
       "      <td>I'm sorry ... I'm not really interested in exe...</td>\n",
       "    </tr>\n",
       "    <tr>\n",
       "      <th>1</th>\n",
       "      <td>Female</td>\n",
       "      <td>19 to 25</td>\n",
       "      <td>4</td>\n",
       "      <td>Very good</td>\n",
       "      <td>Never</td>\n",
       "      <td>I don't have enough time;I'll become too tired</td>\n",
       "      <td>Walking or jogging;Swimming</td>\n",
       "      <td>With a group</td>\n",
       "      <td>Early morning</td>\n",
       "      <td>I don't really exercise</td>\n",
       "      <td>Not always</td>\n",
       "      <td>Ease of access to fast food;Temptation and cra...</td>\n",
       "      <td>4</td>\n",
       "      <td>Yes</td>\n",
       "      <td>No</td>\n",
       "      <td>I want to be fit;I want to be flexible;I want ...</td>\n",
       "    </tr>\n",
       "    <tr>\n",
       "      <th>2</th>\n",
       "      <td>Female</td>\n",
       "      <td>15 to 18</td>\n",
       "      <td>3</td>\n",
       "      <td>Good</td>\n",
       "      <td>1 to 2 times a week</td>\n",
       "      <td>I can't stay motivated</td>\n",
       "      <td>Walking or jogging</td>\n",
       "      <td>Alone</td>\n",
       "      <td>Early morning</td>\n",
       "      <td>30 minutes</td>\n",
       "      <td>Not always</td>\n",
       "      <td>Temptation and cravings</td>\n",
       "      <td>4</td>\n",
       "      <td>Yes</td>\n",
       "      <td>Yes</td>\n",
       "      <td>I want to be fit</td>\n",
       "    </tr>\n",
       "    <tr>\n",
       "      <th>3</th>\n",
       "      <td>Female</td>\n",
       "      <td>15 to 18</td>\n",
       "      <td>4</td>\n",
       "      <td>Good</td>\n",
       "      <td>3 to 4 times a week</td>\n",
       "      <td>I don't have enough time</td>\n",
       "      <td>Walking or jogging;Gym;Lifting weights</td>\n",
       "      <td>Alone</td>\n",
       "      <td>Evening</td>\n",
       "      <td>1 hour</td>\n",
       "      <td>Yes</td>\n",
       "      <td>Temptation and cravings</td>\n",
       "      <td>4</td>\n",
       "      <td>Yes</td>\n",
       "      <td>No</td>\n",
       "      <td>I want to be fit;I want to lose weight</td>\n",
       "    </tr>\n",
       "    <tr>\n",
       "      <th>4</th>\n",
       "      <td>Female</td>\n",
       "      <td>19 to 25</td>\n",
       "      <td>3</td>\n",
       "      <td>Unfit</td>\n",
       "      <td>Never</td>\n",
       "      <td>I can't stay motivated</td>\n",
       "      <td>I don't really exercise</td>\n",
       "      <td>I don't really exercise</td>\n",
       "      <td>Evening</td>\n",
       "      <td>I don't really exercise</td>\n",
       "      <td>Yes</td>\n",
       "      <td>Ease of access to fast food;Temptation and cra...</td>\n",
       "      <td>4</td>\n",
       "      <td>Yes</td>\n",
       "      <td>No</td>\n",
       "      <td>I want to be fit</td>\n",
       "    </tr>\n",
       "  </tbody>\n",
       "</table>\n",
       "</div>"
      ],
      "text/plain": [
       "   Gender       Age  Exercise_importance Fitness_level           Regularity  \\\n",
       "0  Female  19 to 25                    2          Good                Never   \n",
       "1  Female  19 to 25                    4     Very good                Never   \n",
       "2  Female  15 to 18                    3          Good  1 to 2 times a week   \n",
       "3  Female  15 to 18                    4          Good  3 to 4 times a week   \n",
       "4  Female  19 to 25                    3         Unfit                Never   \n",
       "\n",
       "                                          Barriers  \\\n",
       "0  I don't have enough time;I can't stay motivated   \n",
       "1   I don't have enough time;I'll become too tired   \n",
       "2                           I can't stay motivated   \n",
       "3                         I don't have enough time   \n",
       "4                           I can't stay motivated   \n",
       "\n",
       "                                Exercises                   Do_you  \\\n",
       "0                 I don't really exercise  I don't really exercise   \n",
       "1             Walking or jogging;Swimming             With a group   \n",
       "2                      Walking or jogging                    Alone   \n",
       "3  Walking or jogging;Gym;Lifting weights                    Alone   \n",
       "4                 I don't really exercise  I don't really exercise   \n",
       "\n",
       "            Time               Time_spent Balanced_diet  \\\n",
       "0  Early morning  I don't really exercise    Not always   \n",
       "1  Early morning  I don't really exercise    Not always   \n",
       "2  Early morning               30 minutes    Not always   \n",
       "3        Evening                   1 hour           Yes   \n",
       "4        Evening  I don't really exercise           Yes   \n",
       "\n",
       "                                   prevents_balanced  Health_level  \\\n",
       "0  Ease of access to fast food;Temptation and cra...             3   \n",
       "1  Ease of access to fast food;Temptation and cra...             4   \n",
       "2                            Temptation and cravings             4   \n",
       "3                            Temptation and cravings             4   \n",
       "4  Ease of access to fast food;Temptation and cra...             4   \n",
       "\n",
       "  Recommend_fitness Equipment  \\\n",
       "0               Yes        No   \n",
       "1               Yes        No   \n",
       "2               Yes       Yes   \n",
       "3               Yes        No   \n",
       "4               Yes        No   \n",
       "\n",
       "                                          Motivation  \n",
       "0  I'm sorry ... I'm not really interested in exe...  \n",
       "1  I want to be fit;I want to be flexible;I want ...  \n",
       "2                                   I want to be fit  \n",
       "3             I want to be fit;I want to lose weight  \n",
       "4                                   I want to be fit  "
      ]
     },
     "execution_count": 10,
     "metadata": {},
     "output_type": "execute_result"
    }
   ],
   "source": [
    "df.head()"
   ]
  },
  {
   "cell_type": "markdown",
   "metadata": {
    "papermill": {
     "duration": 0.039544,
     "end_time": "2020-10-06T09:11:13.735069",
     "exception": false,
     "start_time": "2020-10-06T09:11:13.695525",
     "status": "completed"
    },
    "tags": []
   },
   "source": [
    "### 1. Importance of Exercise for different age groups"
   ]
  },
  {
   "cell_type": "code",
   "execution_count": 11,
   "metadata": {
    "_kg_hide-input": true,
    "execution": {
     "iopub.execute_input": "2020-10-06T09:11:13.817849Z",
     "iopub.status.busy": "2020-10-06T09:11:13.817131Z",
     "iopub.status.idle": "2020-10-06T09:11:14.818718Z",
     "shell.execute_reply": "2020-10-06T09:11:14.817927Z"
    },
    "papermill": {
     "duration": 1.043894,
     "end_time": "2020-10-06T09:11:14.818848",
     "exception": false,
     "start_time": "2020-10-06T09:11:13.774954",
     "status": "completed"
    },
    "tags": []
   },
   "outputs": [],
   "source": [
    "import seaborn as sns\n",
    "import matplotlib.pyplot as plt"
   ]
  },
  {
   "cell_type": "code",
   "execution_count": 12,
   "metadata": {
    "_kg_hide-input": true,
    "execution": {
     "iopub.execute_input": "2020-10-06T09:11:14.909667Z",
     "iopub.status.busy": "2020-10-06T09:11:14.908896Z",
     "iopub.status.idle": "2020-10-06T09:11:16.202594Z",
     "shell.execute_reply": "2020-10-06T09:11:16.203266Z"
    },
    "papermill": {
     "duration": 1.343509,
     "end_time": "2020-10-06T09:11:16.203447",
     "exception": false,
     "start_time": "2020-10-06T09:11:14.859938",
     "status": "completed"
    },
    "tags": []
   },
   "outputs": [
    {
     "data": {
      "image/png": "[encoded data removed]",
      "text/plain": [
       "<Figure size 1088x216 with 5 Axes>"
      ]
     },
     "metadata": {
      "needs_background": "light"
     },
     "output_type": "display_data"
    }
   ],
   "source": [
    "age_vals=df[\"Age\"].unique()\n",
    "grid = sns.FacetGrid(df, col='Age',col_order=age_vals[[1,0,4,3,2]])\n",
    "grid.map(sns.distplot,'Exercise_importance')\n",
    "grid.add_legend()\n",
    "grid.set(xlim=(0,5))\n",
    "grid.set(ylim=(0,1))\n",
    "grid.set(xlabel=\"Importance of Exercise\")\n",
    "grid.despine()\n",
    "plt.show()"
   ]
  },
  {
   "cell_type": "markdown",
   "metadata": {
    "papermill": {
     "duration": 0.045036,
     "end_time": "2020-10-06T09:11:16.295292",
     "exception": false,
     "start_time": "2020-10-06T09:11:16.250256",
     "status": "completed"
    },
    "tags": []
   },
   "source": [
    "### 2. Types of Exercises preferred by participants\n",
    "#### Since participants could select multiple options for this question,lets create a dictionary to find the top preferred exercise."
   ]
  },
  {
   "cell_type": "code",
   "execution_count": 13,
   "metadata": {
    "_kg_hide-input": true,
    "execution": {
     "iopub.execute_input": "2020-10-06T09:11:16.385156Z",
     "iopub.status.busy": "2020-10-06T09:11:16.384188Z",
     "iopub.status.idle": "2020-10-06T09:11:16.387416Z",
     "shell.execute_reply": "2020-10-06T09:11:16.386708Z"
    },
    "papermill": {
     "duration": 0.050812,
     "end_time": "2020-10-06T09:11:16.387537",
     "exception": false,
     "start_time": "2020-10-06T09:11:16.336725",
     "status": "completed"
    },
    "tags": []
   },
   "outputs": [],
   "source": [
    "exercises_list={}\n",
    "for selected_options in df['Exercises']:\n",
    "    for exercise in selected_options.split(\";\"):\n",
    "        if exercise in exercises_list:\n",
    "            exercises_list[exercise]+=1\n",
    "        else:\n",
    "            exercises_list[exercise]=1\n",
    "\n",
    "            \n",
    "        "
   ]
  },
  {
   "cell_type": "code",
   "execution_count": 14,
   "metadata": {
    "execution": {
     "iopub.execute_input": "2020-10-06T09:11:16.474383Z",
     "iopub.status.busy": "2020-10-06T09:11:16.473683Z",
     "iopub.status.idle": "2020-10-06T09:11:16.475898Z",
     "shell.execute_reply": "2020-10-06T09:11:16.476609Z"
    },
    "papermill": {
     "duration": 0.048875,
     "end_time": "2020-10-06T09:11:16.476755",
     "exception": false,
     "start_time": "2020-10-06T09:11:16.427880",
     "status": "completed"
    },
    "tags": []
   },
   "outputs": [],
   "source": [
    "sorted_list={}\n",
    "for i in sorted(exercises_list,key=exercises_list.get,reverse=True):\n",
    "    sorted_list[i]=exercises_list[i]\n",
    "     "
   ]
  },
  {
   "cell_type": "markdown",
   "metadata": {
    "papermill": {
     "duration": 0.040802,
     "end_time": "2020-10-06T09:11:16.559604",
     "exception": false,
     "start_time": "2020-10-06T09:11:16.518802",
     "status": "completed"
    },
    "tags": []
   },
   "source": [
    "#### Now, lets convert the sorted dictionary into percentages and plot it on a bar graph."
   ]
  },
  {
   "cell_type": "code",
   "execution_count": 15,
   "metadata": {
    "_kg_hide-input": true,
    "execution": {
     "iopub.execute_input": "2020-10-06T09:11:16.646867Z",
     "iopub.status.busy": "2020-10-06T09:11:16.646034Z",
     "iopub.status.idle": "2020-10-06T09:11:16.648455Z",
     "shell.execute_reply": "2020-10-06T09:11:16.648976Z"
    },
    "papermill": {
     "duration": 0.04809,
     "end_time": "2020-10-06T09:11:16.649119",
     "exception": false,
     "start_time": "2020-10-06T09:11:16.601029",
     "status": "completed"
    },
    "tags": []
   },
   "outputs": [],
   "source": [
    "count=sum(sorted_list.values())\n",
    "for i in sorted_list:\n",
    "    sorted_list[i]=(sorted_list[i]/count)*100"
   ]
  },
  {
   "cell_type": "code",
   "execution_count": 16,
   "metadata": {
    "execution": {
     "iopub.execute_input": "2020-10-06T09:11:16.737036Z",
     "iopub.status.busy": "2020-10-06T09:11:16.736271Z",
     "iopub.status.idle": "2020-10-06T09:11:16.740454Z",
     "shell.execute_reply": "2020-10-06T09:11:16.739792Z"
    },
    "papermill": {
     "duration": 0.049452,
     "end_time": "2020-10-06T09:11:16.740586",
     "exception": false,
     "start_time": "2020-10-06T09:11:16.691134",
     "status": "completed"
    },
    "tags": []
   },
   "outputs": [
    {
     "data": {
      "text/plain": [
       "{'Walking or jogging': 38.16254416961131,\n",
       " 'Gym': 16.489988221436985,\n",
       " 'Team sport': 10.954063604240282,\n",
       " \"I don't really exercise\": 10.60070671378092,\n",
       " 'Yoga': 9.540636042402827,\n",
       " 'Lifting weights': 5.535924617196701,\n",
       " 'Swimming': 4.829210836277975,\n",
       " 'Zumba dance': 3.8869257950530036}"
      ]
     },
     "execution_count": 16,
     "metadata": {},
     "output_type": "execute_result"
    }
   ],
   "source": [
    "sorted_list"
   ]
  },
  {
   "cell_type": "code",
   "execution_count": 17,
   "metadata": {
    "_kg_hide-input": true,
    "execution": {
     "iopub.execute_input": "2020-10-06T09:11:16.840944Z",
     "iopub.status.busy": "2020-10-06T09:11:16.836995Z",
     "iopub.status.idle": "2020-10-06T09:11:17.002090Z",
     "shell.execute_reply": "2020-10-06T09:11:17.001302Z"
    },
    "papermill": {
     "duration": 0.219137,
     "end_time": "2020-10-06T09:11:17.002216",
     "exception": false,
     "start_time": "2020-10-06T09:11:16.783079",
     "status": "completed"
    },
    "tags": []
   },
   "outputs": [
    {
     "data": {
      "image/png": "[encoded data removed]",
      "text/plain": [
       "<Figure size 432x288 with 1 Axes>"
      ]
     },
     "metadata": {
      "needs_background": "light"
     },
     "output_type": "display_data"
    }
   ],
   "source": [
    "plt.bar(sorted_list.keys(),sorted_list.values())\n",
    "plt.xticks(rotation=90)\n",
    "plt.title(\"Exercise preferred by Participants\")\n",
    "plt.ylabel(\"Percentage\")\n",
    "plt.ylim(0,100)\n",
    "plt.show()"
   ]
  },
  {
   "cell_type": "markdown",
   "metadata": {
    "papermill": {
     "duration": 0.04739,
     "end_time": "2020-10-06T09:11:17.097544",
     "exception": false,
     "start_time": "2020-10-06T09:11:17.050154",
     "status": "completed"
    },
    "tags": []
   },
   "source": [
    "### 3. At what time do people prefer to exercise?"
   ]
  },
  {
   "cell_type": "code",
   "execution_count": 18,
   "metadata": {
    "_kg_hide-input": true,
    "execution": {
     "iopub.execute_input": "2020-10-06T09:11:17.198748Z",
     "iopub.status.busy": "2020-10-06T09:11:17.193907Z",
     "iopub.status.idle": "2020-10-06T09:11:17.334539Z",
     "shell.execute_reply": "2020-10-06T09:11:17.335005Z"
    },
    "papermill": {
     "duration": 0.195721,
     "end_time": "2020-10-06T09:11:17.335149",
     "exception": false,
     "start_time": "2020-10-06T09:11:17.139428",
     "status": "completed"
    },
    "tags": []
   },
   "outputs": [
    {
     "data": {
      "image/png": "[encoded data removed]",
      "text/plain": [
       "<Figure size 432x288 with 1 Axes>"
      ]
     },
     "metadata": {},
     "output_type": "display_data"
    }
   ],
   "source": [
    "times=df[\"Time\"].value_counts(normalize=True)*100\n",
    "plt.pie(times,labels=times.index,explode=(0.05,0.05,0.1),shadow=True,autopct='%.1f%%',startangle=90)\n",
    "plt.title(\"Preferred Time to exercise\")\n",
    "plt.show()"
   ]
  },
  {
   "cell_type": "markdown",
   "metadata": {
    "papermill": {
     "duration": 0.043892,
     "end_time": "2020-10-06T09:11:17.423398",
     "exception": false,
     "start_time": "2020-10-06T09:11:17.379506",
     "status": "completed"
    },
    "tags": []
   },
   "source": [
    "### 4. Average time spent per day for Exercise?"
   ]
  },
  {
   "cell_type": "code",
   "execution_count": 19,
   "metadata": {
    "execution": {
     "iopub.execute_input": "2020-10-06T09:11:17.519958Z",
     "iopub.status.busy": "2020-10-06T09:11:17.519201Z",
     "iopub.status.idle": "2020-10-06T09:11:17.524377Z",
     "shell.execute_reply": "2020-10-06T09:11:17.523756Z"
    },
    "papermill": {
     "duration": 0.056256,
     "end_time": "2020-10-06T09:11:17.524505",
     "exception": false,
     "start_time": "2020-10-06T09:11:17.468249",
     "status": "completed"
    },
    "tags": []
   },
   "outputs": [
    {
     "data": {
      "text/plain": [
       "array([\"I don't really exercise\", '30 minutes', '1 hour', '2 hours',\n",
       "       '3 hours and above'], dtype=object)"
      ]
     },
     "execution_count": 19,
     "metadata": {},
     "output_type": "execute_result"
    }
   ],
   "source": [
    "df[\"Time_spent\"].unique()"
   ]
  },
  {
   "cell_type": "markdown",
   "metadata": {
    "papermill": {
     "duration": 0.044823,
     "end_time": "2020-10-06T09:11:17.614832",
     "exception": false,
     "start_time": "2020-10-06T09:11:17.570009",
     "status": "completed"
    },
    "tags": []
   },
   "source": [
    "#### To find out approximately, the average time spent by an induvidual on exercise daily, lets convert the 'Time_spent' column into numerical values (minutes). "
   ]
  },
  {
   "cell_type": "code",
   "execution_count": 20,
   "metadata": {
    "_kg_hide-input": true,
    "execution": {
     "iopub.execute_input": "2020-10-06T09:11:17.713413Z",
     "iopub.status.busy": "2020-10-06T09:11:17.712509Z",
     "iopub.status.idle": "2020-10-06T09:11:17.715753Z",
     "shell.execute_reply": "2020-10-06T09:11:17.715107Z"
    },
    "papermill": {
     "duration": 0.056224,
     "end_time": "2020-10-06T09:11:17.715865",
     "exception": false,
     "start_time": "2020-10-06T09:11:17.659641",
     "status": "completed"
    },
    "tags": []
   },
   "outputs": [],
   "source": [
    "times=df[\"Time_spent\"].str.split(\" \",n=1,expand=True)"
   ]
  },
  {
   "cell_type": "code",
   "execution_count": 21,
   "metadata": {
    "_kg_hide-input": true,
    "execution": {
     "iopub.execute_input": "2020-10-06T09:11:17.811035Z",
     "iopub.status.busy": "2020-10-06T09:11:17.810195Z",
     "iopub.status.idle": "2020-10-06T09:11:17.813032Z",
     "shell.execute_reply": "2020-10-06T09:11:17.812349Z"
    },
    "papermill": {
     "duration": 0.052644,
     "end_time": "2020-10-06T09:11:17.813130",
     "exception": false,
     "start_time": "2020-10-06T09:11:17.760486",
     "status": "completed"
    },
    "tags": []
   },
   "outputs": [],
   "source": [
    "df[\"Time_spent_minutes\"]=times[0]"
   ]
  },
  {
   "cell_type": "code",
   "execution_count": 22,
   "metadata": {
    "_kg_hide-input": true,
    "execution": {
     "iopub.execute_input": "2020-10-06T09:11:17.909230Z",
     "iopub.status.busy": "2020-10-06T09:11:17.908284Z",
     "iopub.status.idle": "2020-10-06T09:11:17.911251Z",
     "shell.execute_reply": "2020-10-06T09:11:17.910666Z"
    },
    "papermill": {
     "duration": 0.053391,
     "end_time": "2020-10-06T09:11:17.911357",
     "exception": false,
     "start_time": "2020-10-06T09:11:17.857966",
     "status": "completed"
    },
    "tags": []
   },
   "outputs": [],
   "source": [
    "def convertor(val):\n",
    "    if val==\"I\":\n",
    "        return 0\n",
    "    else:\n",
    "        return int(val)"
   ]
  },
  {
   "cell_type": "code",
   "execution_count": 23,
   "metadata": {
    "_kg_hide-input": true,
    "execution": {
     "iopub.execute_input": "2020-10-06T09:11:18.007263Z",
     "iopub.status.busy": "2020-10-06T09:11:18.006477Z",
     "iopub.status.idle": "2020-10-06T09:11:18.009492Z",
     "shell.execute_reply": "2020-10-06T09:11:18.008957Z"
    },
    "papermill": {
     "duration": 0.053412,
     "end_time": "2020-10-06T09:11:18.009596",
     "exception": false,
     "start_time": "2020-10-06T09:11:17.956184",
     "status": "completed"
    },
    "tags": []
   },
   "outputs": [],
   "source": [
    "df[\"Time_spent_minutes\"]=df[\"Time_spent_minutes\"].apply(convertor)"
   ]
  },
  {
   "cell_type": "code",
   "execution_count": 24,
   "metadata": {
    "_kg_hide-input": true,
    "execution": {
     "iopub.execute_input": "2020-10-06T09:11:18.106690Z",
     "iopub.status.busy": "2020-10-06T09:11:18.106023Z",
     "iopub.status.idle": "2020-10-06T09:11:18.108320Z",
     "shell.execute_reply": "2020-10-06T09:11:18.108887Z"
    },
    "papermill": {
     "duration": 0.054243,
     "end_time": "2020-10-06T09:11:18.109019",
     "exception": false,
     "start_time": "2020-10-06T09:11:18.054776",
     "status": "completed"
    },
    "tags": []
   },
   "outputs": [],
   "source": [
    "df[\"Time_spent_minutes\"]=df[\"Time_spent_minutes\"].apply(lambda x:x*60 if x!=30 else x)"
   ]
  },
  {
   "cell_type": "code",
   "execution_count": 25,
   "metadata": {
    "execution": {
     "iopub.execute_input": "2020-10-06T09:11:18.218598Z",
     "iopub.status.busy": "2020-10-06T09:11:18.217491Z",
     "iopub.status.idle": "2020-10-06T09:11:18.222700Z",
     "shell.execute_reply": "2020-10-06T09:11:18.221983Z"
    },
    "papermill": {
     "duration": 0.068466,
     "end_time": "2020-10-06T09:11:18.222818",
     "exception": false,
     "start_time": "2020-10-06T09:11:18.154352",
     "status": "completed"
    },
    "tags": []
   },
   "outputs": [
    {
     "data": {
      "text/plain": [
       "30     203\n",
       "60     167\n",
       "0      105\n",
       "120     64\n",
       "180      6\n",
       "Name: Time_spent_minutes, dtype: int64"
      ]
     },
     "execution_count": 25,
     "metadata": {},
     "output_type": "execute_result"
    }
   ],
   "source": [
    "df[\"Time_spent_minutes\"].value_counts()"
   ]
  },
  {
   "cell_type": "code",
   "execution_count": 26,
   "metadata": {
    "_kg_hide-input": true,
    "execution": {
     "iopub.execute_input": "2020-10-06T09:11:18.341971Z",
     "iopub.status.busy": "2020-10-06T09:11:18.339298Z",
     "iopub.status.idle": "2020-10-06T09:11:18.509449Z",
     "shell.execute_reply": "2020-10-06T09:11:18.510037Z"
    },
    "papermill": {
     "duration": 0.23105,
     "end_time": "2020-10-06T09:11:18.510197",
     "exception": false,
     "start_time": "2020-10-06T09:11:18.279147",
     "status": "completed"
    },
    "tags": []
   },
   "outputs": [
    {
     "data": {
      "image/png": "[encoded data removed]",
      "text/plain": [
       "<Figure size 432x288 with 1 Axes>"
      ]
     },
     "metadata": {
      "needs_background": "light"
     },
     "output_type": "display_data"
    }
   ],
   "source": [
    "df.groupby(\"Gender\").mean()[\"Time_spent_minutes\"].plot.barh()\n",
    "for i,v in enumerate(df.groupby(\"Gender\").mean()[\"Time_spent_minutes\"]):\n",
    "    plt.text(v,i,(str(round(v,2))+\" mins\"))\n",
    "plt.title(\"Average time spent daily on Exercise by Gender\")\n",
    "plt.xlabel(\"Time (Minutes)\")\n",
    "plt.xlim(0,70)\n",
    "plt.show()"
   ]
  },
  {
   "cell_type": "code",
   "execution_count": 27,
   "metadata": {
    "_kg_hide-input": true,
    "execution": {
     "iopub.execute_input": "2020-10-06T09:11:18.633101Z",
     "iopub.status.busy": "2020-10-06T09:11:18.620583Z",
     "iopub.status.idle": "2020-10-06T09:11:18.798910Z",
     "shell.execute_reply": "2020-10-06T09:11:18.798211Z"
    },
    "papermill": {
     "duration": 0.23594,
     "end_time": "2020-10-06T09:11:18.799025",
     "exception": false,
     "start_time": "2020-10-06T09:11:18.563085",
     "status": "completed"
    },
    "tags": []
   },
   "outputs": [
    {
     "data": {
      "image/png": "[encoded data removed]",
      "text/plain": [
       "<Figure size 432x288 with 1 Axes>"
      ]
     },
     "metadata": {
      "needs_background": "light"
     },
     "output_type": "display_data"
    }
   ],
   "source": [
    "groups=df.groupby(\"Age\").mean()[\"Time_spent_minutes\"]\n",
    "ax=sns.barplot(groups.index,groups)\n",
    "ax.text(0,48,\"Total Average=45.6 minutes\",c=\"purple\")\n",
    "plt.title(\"Average time spent on Exercise daily by Age\")\n",
    "plt.ylim(10,60)\n",
    "plt.axhline(df[\"Time_spent_minutes\"].mean(),color=\"purple\")\n",
    "plt.show()"
   ]
  },
  {
   "cell_type": "markdown",
   "metadata": {
    "papermill": {
     "duration": 0.048483,
     "end_time": "2020-10-06T09:11:18.895628",
     "exception": false,
     "start_time": "2020-10-06T09:11:18.847145",
     "status": "completed"
    },
    "tags": []
   },
   "source": [
    "### 5. Top motivation factors for daily excersice?"
   ]
  },
  {
   "cell_type": "code",
   "execution_count": 28,
   "metadata": {
    "_kg_hide-input": true,
    "execution": {
     "iopub.execute_input": "2020-10-06T09:11:19.000279Z",
     "iopub.status.busy": "2020-10-06T09:11:18.999602Z",
     "iopub.status.idle": "2020-10-06T09:11:19.003559Z",
     "shell.execute_reply": "2020-10-06T09:11:19.002829Z"
    },
    "papermill": {
     "duration": 0.05974,
     "end_time": "2020-10-06T09:11:19.003675",
     "exception": false,
     "start_time": "2020-10-06T09:11:18.943935",
     "status": "completed"
    },
    "tags": []
   },
   "outputs": [],
   "source": [
    "motivation_list={}\n",
    "for selected_options in df['Motivation']:\n",
    "    for motivation in selected_options.split(\";\"):\n",
    "        if motivation in motivation_list:\n",
    "            motivation_list[motivation]+=1\n",
    "        else:\n",
    "            motivation_list[motivation]=1"
   ]
  },
  {
   "cell_type": "code",
   "execution_count": 29,
   "metadata": {
    "execution": {
     "iopub.execute_input": "2020-10-06T09:11:19.106970Z",
     "iopub.status.busy": "2020-10-06T09:11:19.106187Z",
     "iopub.status.idle": "2020-10-06T09:11:19.110586Z",
     "shell.execute_reply": "2020-10-06T09:11:19.109977Z"
    },
    "papermill": {
     "duration": 0.057911,
     "end_time": "2020-10-06T09:11:19.110695",
     "exception": false,
     "start_time": "2020-10-06T09:11:19.052784",
     "status": "completed"
    },
    "tags": []
   },
   "outputs": [
    {
     "data": {
      "text/plain": [
       "{\"I'm sorry ... I'm not really interested in exercising\": 42,\n",
       " 'I want to be fit': 341,\n",
       " 'I want to be flexible': 173,\n",
       " 'I want to relieve stress': 173,\n",
       " 'I want to lose weight': 198,\n",
       " 'I want to increase muscle mass and strength': 89,\n",
       " 'I want to achieve a sporting goal': 54,\n",
       " 'Doing exercises prevents many diseases.So yeah saves a lot of money .': 1,\n",
       " 'Exercising gives you discipline and focus and removed bad thoughts from your mind.': 1,\n",
       " 'Control Diabetes ': 1,\n",
       " 'To maintain healthy body and mind': 1,\n",
       " 'I want to think clearly and I want to play cricket with my grandkids': 1,\n",
       " 'I dont wanna gain weight😉': 1,\n",
       " 'Going to class on time 😉': 1,\n",
       " 'See the answer to what barriers, if any, prevent you from exercising  regularly ': 1,\n",
       " 'My dad motivates me ': 1,\n",
       " 'Reaching class on time 😅': 1,\n",
       " 'Personal reasons': 1,\n",
       " 'Not doing exercise': 1,\n",
       " 'I want to look young and think young': 1,\n",
       " 'Gotta get that alcohol and **** out of the system': 1}"
      ]
     },
     "execution_count": 29,
     "metadata": {},
     "output_type": "execute_result"
    }
   ],
   "source": [
    "motivation_list"
   ]
  },
  {
   "cell_type": "code",
   "execution_count": 30,
   "metadata": {
    "_kg_hide-input": true,
    "execution": {
     "iopub.execute_input": "2020-10-06T09:11:19.215486Z",
     "iopub.status.busy": "2020-10-06T09:11:19.214442Z",
     "iopub.status.idle": "2020-10-06T09:11:19.217622Z",
     "shell.execute_reply": "2020-10-06T09:11:19.217046Z"
    },
    "papermill": {
     "duration": 0.057127,
     "end_time": "2020-10-06T09:11:19.217732",
     "exception": false,
     "start_time": "2020-10-06T09:11:19.160605",
     "status": "completed"
    },
    "tags": []
   },
   "outputs": [],
   "source": [
    "top_5_motivation=pd.DataFrame.from_dict(motivation_list.items()).sort_values(by=1,ascending=False)[:5]"
   ]
  },
  {
   "cell_type": "code",
   "execution_count": 31,
   "metadata": {
    "_kg_hide-input": true,
    "execution": {
     "iopub.execute_input": "2020-10-06T09:11:19.320680Z",
     "iopub.status.busy": "2020-10-06T09:11:19.320008Z",
     "iopub.status.idle": "2020-10-06T09:11:19.323134Z",
     "shell.execute_reply": "2020-10-06T09:11:19.322493Z"
    },
    "papermill": {
     "duration": 0.056833,
     "end_time": "2020-10-06T09:11:19.323235",
     "exception": false,
     "start_time": "2020-10-06T09:11:19.266402",
     "status": "completed"
    },
    "tags": []
   },
   "outputs": [],
   "source": [
    "top_5_motivation[0]=top_5_motivation[0].apply(lambda x:x.replace(\"I want to \",\"\"))"
   ]
  },
  {
   "cell_type": "code",
   "execution_count": 32,
   "metadata": {
    "_kg_hide-input": true,
    "execution": {
     "iopub.execute_input": "2020-10-06T09:11:19.432871Z",
     "iopub.status.busy": "2020-10-06T09:11:19.431876Z",
     "iopub.status.idle": "2020-10-06T09:11:19.609046Z",
     "shell.execute_reply": "2020-10-06T09:11:19.609569Z"
    },
    "papermill": {
     "duration": 0.237281,
     "end_time": "2020-10-06T09:11:19.609715",
     "exception": false,
     "start_time": "2020-10-06T09:11:19.372434",
     "status": "completed"
    },
    "tags": []
   },
   "outputs": [
    {
     "data": {
      "image/png": "[encoded data removed]",
      "text/plain": [
       "<Figure size 432x288 with 1 Axes>"
      ]
     },
     "metadata": {
      "needs_background": "light"
     },
     "output_type": "display_data"
    }
   ],
   "source": [
    "sns.barplot(x=0,y=1,data=top_5_motivation)\n",
    "plt.xticks(rotation=45)\n",
    "plt.ylabel(\"Number of responses\")\n",
    "plt.title(\"Top five reasons to exercise\")\n",
    "plt.xlabel(\"\")\n",
    "plt.show()"
   ]
  },
  {
   "cell_type": "markdown",
   "metadata": {
    "papermill": {
     "duration": 0.050095,
     "end_time": "2020-10-06T09:11:19.711413",
     "exception": false,
     "start_time": "2020-10-06T09:11:19.661318",
     "status": "completed"
    },
    "tags": []
   },
   "source": [
    "### 6. Top Barriers from performing daily excercise?"
   ]
  },
  {
   "cell_type": "code",
   "execution_count": 33,
   "metadata": {
    "_kg_hide-input": true,
    "execution": {
     "iopub.execute_input": "2020-10-06T09:11:19.819062Z",
     "iopub.status.busy": "2020-10-06T09:11:19.818133Z",
     "iopub.status.idle": "2020-10-06T09:11:19.821182Z",
     "shell.execute_reply": "2020-10-06T09:11:19.820628Z"
    },
    "papermill": {
     "duration": 0.059785,
     "end_time": "2020-10-06T09:11:19.821312",
     "exception": false,
     "start_time": "2020-10-06T09:11:19.761527",
     "status": "completed"
    },
    "tags": []
   },
   "outputs": [],
   "source": [
    "barrier_list={}\n",
    "for selected_options in df['Barriers']:\n",
    "    for barrier in selected_options.split(\";\"):\n",
    "        if barrier in barrier_list:\n",
    "            barrier_list[barrier]+=1\n",
    "        else:\n",
    "            barrier_list[barrier]=1"
   ]
  },
  {
   "cell_type": "code",
   "execution_count": 34,
   "metadata": {
    "execution": {
     "iopub.execute_input": "2020-10-06T09:11:19.929857Z",
     "iopub.status.busy": "2020-10-06T09:11:19.928876Z",
     "iopub.status.idle": "2020-10-06T09:11:19.933372Z",
     "shell.execute_reply": "2020-10-06T09:11:19.932689Z"
    },
    "papermill": {
     "duration": 0.061855,
     "end_time": "2020-10-06T09:11:19.933500",
     "exception": false,
     "start_time": "2020-10-06T09:11:19.871645",
     "status": "completed"
    },
    "tags": []
   },
   "outputs": [
    {
     "data": {
      "text/plain": [
       "{\"I don't have enough time\": 290,\n",
       " \"I can't stay motivated\": 178,\n",
       " \"I'll become too tired\": 112,\n",
       " 'I exercise regularly with no barriers': 67,\n",
       " \"I don't really enjoy exercising\": 59,\n",
       " 'Less stamina': 1,\n",
       " 'I have an injury': 31,\n",
       " 'I am not regular in anything': 1,\n",
       " 'I am lazy': 1,\n",
       " 'Laziness ': 2,\n",
       " \"I'm too lazy\": 1,\n",
       " 'Laziness': 3,\n",
       " 'Lazy': 1,\n",
       " 'No gym near me': 1,\n",
       " 'Travel': 1,\n",
       " 'Allergies': 1,\n",
       " 'I always busy with my regular works': 1,\n",
       " \"My friends don't come \": 1,\n",
       " 'Laziness mostly ': 2,\n",
       " 'Travel time I skip': 1}"
      ]
     },
     "execution_count": 34,
     "metadata": {},
     "output_type": "execute_result"
    }
   ],
   "source": [
    "barrier_list"
   ]
  },
  {
   "cell_type": "code",
   "execution_count": 35,
   "metadata": {
    "_kg_hide-input": true,
    "execution": {
     "iopub.execute_input": "2020-10-06T09:11:20.044760Z",
     "iopub.status.busy": "2020-10-06T09:11:20.044026Z",
     "iopub.status.idle": "2020-10-06T09:11:20.047639Z",
     "shell.execute_reply": "2020-10-06T09:11:20.047041Z"
    },
    "papermill": {
     "duration": 0.06279,
     "end_time": "2020-10-06T09:11:20.047751",
     "exception": false,
     "start_time": "2020-10-06T09:11:19.984961",
     "status": "completed"
    },
    "tags": []
   },
   "outputs": [],
   "source": [
    "top_5_barrier=pd.DataFrame.from_dict(barrier_list.items()).sort_values(by=1,ascending=False)[:6].drop(3,axis=0)"
   ]
  },
  {
   "cell_type": "markdown",
   "metadata": {
    "papermill": {
     "duration": 0.04982,
     "end_time": "2020-10-06T09:11:20.149189",
     "exception": false,
     "start_time": "2020-10-06T09:11:20.099369",
     "status": "completed"
    },
    "tags": []
   },
   "source": [
    "#### We'll drop the fouth row as it just mentions there arent any barriers"
   ]
  },
  {
   "cell_type": "code",
   "execution_count": 36,
   "metadata": {
    "_kg_hide-input": true,
    "execution": {
     "iopub.execute_input": "2020-10-06T09:11:20.256649Z",
     "iopub.status.busy": "2020-10-06T09:11:20.255956Z",
     "iopub.status.idle": "2020-10-06T09:11:20.259152Z",
     "shell.execute_reply": "2020-10-06T09:11:20.258618Z"
    },
    "papermill": {
     "duration": 0.059363,
     "end_time": "2020-10-06T09:11:20.259261",
     "exception": false,
     "start_time": "2020-10-06T09:11:20.199898",
     "status": "completed"
    },
    "tags": []
   },
   "outputs": [],
   "source": [
    "top_5_barrier[\"Percentage\"]=(top_5_barrier[1]/top_5_barrier[1].sum())*100"
   ]
  },
  {
   "cell_type": "code",
   "execution_count": 37,
   "metadata": {
    "execution": {
     "iopub.execute_input": "2020-10-06T09:11:20.372210Z",
     "iopub.status.busy": "2020-10-06T09:11:20.371229Z",
     "iopub.status.idle": "2020-10-06T09:11:20.375154Z",
     "shell.execute_reply": "2020-10-06T09:11:20.375899Z"
    },
    "papermill": {
     "duration": 0.065056,
     "end_time": "2020-10-06T09:11:20.376042",
     "exception": false,
     "start_time": "2020-10-06T09:11:20.310986",
     "status": "completed"
    },
    "tags": []
   },
   "outputs": [
    {
     "data": {
      "text/html": [
       "<div>\n",
       "<style scoped>\n",
       "    .dataframe tbody tr th:only-of-type {\n",
       "        vertical-align: middle;\n",
       "    }\n",
       "\n",
       "    .dataframe tbody tr th {\n",
       "        vertical-align: top;\n",
       "    }\n",
       "\n",
       "    .dataframe thead th {\n",
       "        text-align: right;\n",
       "    }\n",
       "</style>\n",
       "<table border=\"1\" class=\"dataframe\">\n",
       "  <thead>\n",
       "    <tr style=\"text-align: right;\">\n",
       "      <th></th>\n",
       "      <th>0</th>\n",
       "      <th>1</th>\n",
       "      <th>Percentage</th>\n",
       "    </tr>\n",
       "  </thead>\n",
       "  <tbody>\n",
       "    <tr>\n",
       "      <th>0</th>\n",
       "      <td>I don't have enough time</td>\n",
       "      <td>290</td>\n",
       "      <td>43.283582</td>\n",
       "    </tr>\n",
       "    <tr>\n",
       "      <th>1</th>\n",
       "      <td>I can't stay motivated</td>\n",
       "      <td>178</td>\n",
       "      <td>26.567164</td>\n",
       "    </tr>\n",
       "    <tr>\n",
       "      <th>2</th>\n",
       "      <td>I'll become too tired</td>\n",
       "      <td>112</td>\n",
       "      <td>16.716418</td>\n",
       "    </tr>\n",
       "    <tr>\n",
       "      <th>4</th>\n",
       "      <td>I don't really enjoy exercising</td>\n",
       "      <td>59</td>\n",
       "      <td>8.805970</td>\n",
       "    </tr>\n",
       "    <tr>\n",
       "      <th>6</th>\n",
       "      <td>I have an injury</td>\n",
       "      <td>31</td>\n",
       "      <td>4.626866</td>\n",
       "    </tr>\n",
       "  </tbody>\n",
       "</table>\n",
       "</div>"
      ],
      "text/plain": [
       "                                 0    1  Percentage\n",
       "0         I don't have enough time  290   43.283582\n",
       "1           I can't stay motivated  178   26.567164\n",
       "2            I'll become too tired  112   16.716418\n",
       "4  I don't really enjoy exercising   59    8.805970\n",
       "6                 I have an injury   31    4.626866"
      ]
     },
     "execution_count": 37,
     "metadata": {},
     "output_type": "execute_result"
    }
   ],
   "source": [
    "top_5_barrier"
   ]
  },
  {
   "cell_type": "code",
   "execution_count": 38,
   "metadata": {
    "_kg_hide-input": true,
    "execution": {
     "iopub.execute_input": "2020-10-06T09:11:20.501866Z",
     "iopub.status.busy": "2020-10-06T09:11:20.496489Z",
     "iopub.status.idle": "2020-10-06T09:11:20.591119Z",
     "shell.execute_reply": "2020-10-06T09:11:20.590346Z"
    },
    "papermill": {
     "duration": 0.156032,
     "end_time": "2020-10-06T09:11:20.591244",
     "exception": false,
     "start_time": "2020-10-06T09:11:20.435212",
     "status": "completed"
    },
    "tags": []
   },
   "outputs": [
    {
     "data": {
      "image/png": "[encoded data removed]",
      "text/plain": [
       "<Figure size 432x288 with 1 Axes>"
      ]
     },
     "metadata": {},
     "output_type": "display_data"
    }
   ],
   "source": [
    "plt.pie(top_5_barrier[\"Percentage\"],labels=top_5_barrier[0],autopct=\"%.1f%%\",shadow=True)\n",
    "centre_circle = plt.Circle((0,0),0.8,color='yellow', fc='white',linewidth=1.5)\n",
    "fig = plt.gcf()\n",
    "fig.gca().add_artist(centre_circle)\n",
    "plt.title(\"Top 5 barriers to daily exercise\")\n",
    "plt.show()"
   ]
  }
 ],
 "metadata": {
  "kernelspec": {
   "display_name": "Python 3",
   "language": "python",
   "name": "python3"
  },
  "language_info": {
   "codemirror_mode": {
    "name": "ipython",
    "version": 3
   },
   "file_extension": ".py",
   "mimetype": "text/x-python",
   "name": "python",
   "nbconvert_exporter": "python",
   "pygments_lexer": "ipython3",
   "version": "3.8.3"
  },
  "papermill": {
   "duration": 12.887114,
   "end_time": "2020-10-06T09:11:20.759083",
   "environment_variables": {},
   "exception": null,
   "input_path": "__notebook__.ipynb",
   "output_path": "__notebook__.ipynb",
   "parameters": {},
   "start_time": "2020-10-06T09:11:07.871969",
   "version": "2.1.0"
  }
 },
 "nbformat": 4,
 "nbformat_minor": 4
}
